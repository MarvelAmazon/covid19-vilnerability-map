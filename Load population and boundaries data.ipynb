{
 "cells": [
  {
   "cell_type": "code",
   "execution_count": 1,
   "metadata": {
    "scrolled": false
   },
   "outputs": [
    {
     "data": {
      "text/plain": [
       "True"
      ]
     },
     "execution_count": 1,
     "metadata": {},
     "output_type": "execute_result"
    }
   ],
   "source": [
    "import os\n",
    "import pandas as pd\n",
    "from sqlalchemy import create_engine\n",
    "from dotenv import load_dotenv\n",
    "load_dotenv()"
   ]
  },
  {
   "cell_type": "markdown",
   "metadata": {},
   "source": [
    "## Load Population Data"
   ]
  },
  {
   "cell_type": "code",
   "execution_count": 46,
   "metadata": {},
   "outputs": [],
   "source": [
    "def get_posgres_connection():\n",
    "    db_name = os.getenv(\"PSQL_DB_NAME\")\n",
    "    db_user = os.getenv(\"PSQL_DB_USER\")\n",
    "    db_password = os.getenv(\"PSQL_DB_PASSWORD\")\n",
    "    db_host = os.getenv(\"PSQL_DB_HOST\")\n",
    "    sql_engine = create_engine(f'postgresql://{db_user}:{db_password}@{db_host}:5432/{db_name}')\n",
    "    return sql_engine\n"
   ]
  },
  {
   "cell_type": "code",
   "execution_count": 2,
   "metadata": {},
   "outputs": [],
   "source": [
    "sheets = ['hti_pop2019_adm0','hti_pop2019_adm1','hti_pop2019_adm2','hti_pop2019_adm3']"
   ]
  },
  {
   "cell_type": "code",
   "execution_count": null,
   "metadata": {},
   "outputs": [],
   "source": [
    "for sheet in sheets:\n",
    "    df = pd.read_excel(\"hti_adminboundaries_tabulardata.xlsx\",sheet_name= sheet)\n",
    "    psql_engine = get_posgres_connection()\n",
    "    df.to_sql(name = sheet ,con=psql_engine,index=False,if_exists='replace')"
   ]
  },
  {
   "cell_type": "markdown",
   "metadata": {},
   "source": [
    "## Load Shape Files"
   ]
  },
  {
   "cell_type": "markdown",
   "metadata": {},
   "source": [
    "### Import the data to Ayiti Analytics PostGIS system\n",
    "In order to load data to PostGIS, we need to identify the srid of the file prior to load.\n",
    "####\n",
    "1. Create a method to load the data \n",
    "    a. Convert data objects types for the geometry data.\n",
    "    b. Load the data to PostGIS tables\n",
    "2. Using the previously created function write a for-loop too load all the shape files. \n",
    "3. During the previous for-loop, we encounter an error. To resolve I will need to unpack the list and attempt to load each file with varying parameter values and changes to the database table."
   ]
  },
  {
   "cell_type": "markdown",
   "metadata": {},
   "source": [
    "### Get SRID\n",
    "The SRID of the shape file is 4326"
   ]
  },
  {
   "cell_type": "code",
   "execution_count": 107,
   "metadata": {
    "scrolled": false
   },
   "outputs": [
    {
     "name": "stdout",
     "output_type": "stream",
     "text": [
      "GEOGCS[\"WGS 84\",\n",
      "    DATUM[\"WGS_1984\",\n",
      "        SPHEROID[\"WGS 84\",6378137,298.257223563,\n",
      "            AUTHORITY[\"EPSG\",\"7030\"]],\n",
      "        AUTHORITY[\"EPSG\",\"6326\"]],\n",
      "    PRIMEM[\"Greenwich\",0,\n",
      "        AUTHORITY[\"EPSG\",\"8901\"]],\n",
      "    UNIT[\"degree\",0.0174532925199433,\n",
      "        AUTHORITY[\"EPSG\",\"9122\"]],\n",
      "    AXIS[\"Latitude\",NORTH],\n",
      "    AXIS[\"Longitude\",EAST],\n",
      "    AUTHORITY[\"EPSG\",\"4326\"]]\n"
     ]
    }
   ],
   "source": [
    "from osgeo import ogr\n",
    "driver = ogr.GetDriverByName('ESRI Shapefile')\n",
    "shape = driver.Open('hti_adm_cnigs_20181129/hti_admbnda_adm0_cnigs_20181129.shp')\n",
    "layer= shape.GetLayer()\n",
    "# the crs\n",
    "crs = layer.GetSpatialRef()\n",
    "\n",
    "# from Geometry\n",
    "feature = layer.GetNextFeature()\n",
    "geom = feature.GetGeometryRef()\n",
    "print(crs)"
   ]
  },
  {
   "cell_type": "markdown",
   "metadata": {},
   "source": [
    "###### I look at the AUTHORITY  value-pair at the bottom"
   ]
  },
  {
   "cell_type": "code",
   "execution_count": 121,
   "metadata": {},
   "outputs": [],
   "source": [
    "def get_srid(shpale_file):\n",
    "    driver = ogr.GetDriverByName('ESRI Shapefile')\n",
    "    shape = driver.Open('hti_adm_cnigs_20181129/hti_admbnda_adm0_cnigs_20181129.shp')\n",
    "    layer= shape.GetLayer()\n",
    "    # the crs\n",
    "    crs = layer.GetSpatialRef()\n",
    "\n",
    "    # from Geometry\n",
    "    feature = layer.GetNextFeature()\n",
    "    geom = feature.GetGeometryRef()\n",
    "    print(crs)"
   ]
  },
  {
   "cell_type": "markdown",
   "metadata": {},
   "source": [
    "#### Load data to PostGIS"
   ]
  },
  {
   "cell_type": "code",
   "execution_count": 47,
   "metadata": {},
   "outputs": [],
   "source": [
    "import geopandas as gpd\n",
    "from geoalchemy2 import Geometry, WKTElement"
   ]
  },
  {
   "cell_type": "code",
   "execution_count": 13,
   "metadata": {},
   "outputs": [],
   "source": [
    "gdf = gpd.read_file(\"hti_adm_cnigs_20181129/hti_admbnda_adm0_cnigs_20181129.shp\")"
   ]
  },
  {
   "cell_type": "code",
   "execution_count": 14,
   "metadata": {
    "scrolled": true
   },
   "outputs": [
    {
     "data": {
      "text/html": [
       "<div>\n",
       "<style scoped>\n",
       "    .dataframe tbody tr th:only-of-type {\n",
       "        vertical-align: middle;\n",
       "    }\n",
       "\n",
       "    .dataframe tbody tr th {\n",
       "        vertical-align: top;\n",
       "    }\n",
       "\n",
       "    .dataframe thead th {\n",
       "        text-align: right;\n",
       "    }\n",
       "</style>\n",
       "<table border=\"1\" class=\"dataframe\">\n",
       "  <thead>\n",
       "    <tr style=\"text-align: right;\">\n",
       "      <th></th>\n",
       "      <th>Shape_Leng</th>\n",
       "      <th>Shape_Area</th>\n",
       "      <th>ADM0_EN</th>\n",
       "      <th>ADM0_FR</th>\n",
       "      <th>ADM0_HT</th>\n",
       "      <th>ADM0_PCODE</th>\n",
       "      <th>ADM0_REF</th>\n",
       "      <th>ADM0ALT1EN</th>\n",
       "      <th>ADM0ALT2EN</th>\n",
       "      <th>ADM0ALT1FR</th>\n",
       "      <th>ADM0ALT2FR</th>\n",
       "      <th>ADM0ALT1HT</th>\n",
       "      <th>ADM0ALT2HT</th>\n",
       "      <th>date</th>\n",
       "      <th>validOn</th>\n",
       "      <th>validTo</th>\n",
       "      <th>geometry</th>\n",
       "    </tr>\n",
       "  </thead>\n",
       "  <tbody>\n",
       "    <tr>\n",
       "      <th>0</th>\n",
       "      <td>21.376764</td>\n",
       "      <td>2.310924</td>\n",
       "      <td>Haiti</td>\n",
       "      <td>Haïti</td>\n",
       "      <td>Ayiti</td>\n",
       "      <td>HT</td>\n",
       "      <td>None</td>\n",
       "      <td>None</td>\n",
       "      <td>None</td>\n",
       "      <td>None</td>\n",
       "      <td>None</td>\n",
       "      <td>None</td>\n",
       "      <td>None</td>\n",
       "      <td>2017-09-06</td>\n",
       "      <td>2018-11-29</td>\n",
       "      <td>None</td>\n",
       "      <td>MULTIPOLYGON (((-73.70372 18.10930, -73.70315 ...</td>\n",
       "    </tr>\n",
       "  </tbody>\n",
       "</table>\n",
       "</div>"
      ],
      "text/plain": [
       "   Shape_Leng  Shape_Area ADM0_EN ADM0_FR ADM0_HT ADM0_PCODE ADM0_REF  \\\n",
       "0   21.376764    2.310924   Haiti   Haïti   Ayiti         HT     None   \n",
       "\n",
       "  ADM0ALT1EN ADM0ALT2EN ADM0ALT1FR ADM0ALT2FR ADM0ALT1HT ADM0ALT2HT  \\\n",
       "0       None       None       None       None       None       None   \n",
       "\n",
       "         date     validOn validTo  \\\n",
       "0  2017-09-06  2018-11-29    None   \n",
       "\n",
       "                                            geometry  \n",
       "0  MULTIPOLYGON (((-73.70372 18.10930, -73.70315 ...  "
      ]
     },
     "execution_count": 14,
     "metadata": {},
     "output_type": "execute_result"
    }
   ],
   "source": [
    "gdf.head()"
   ]
  },
  {
   "cell_type": "code",
   "execution_count": 15,
   "metadata": {},
   "outputs": [
    {
     "name": "stderr",
     "output_type": "stream",
     "text": [
      "/usr/local/lib/python3.8/site-packages/geopandas/geodataframe.py:852: UserWarning: Geometry column does not contain geometry.\n",
      "  warnings.warn(\"Geometry column does not contain geometry.\")\n"
     ]
    }
   ],
   "source": [
    "gdf['geometry'] = gdf['geometry'].apply(lambda x: WKTElement(x.wkt, srid=\"4326\"))\n"
   ]
  },
  {
   "cell_type": "code",
   "execution_count": 50,
   "metadata": {},
   "outputs": [
    {
     "data": {
      "text/html": [
       "<div>\n",
       "<style scoped>\n",
       "    .dataframe tbody tr th:only-of-type {\n",
       "        vertical-align: middle;\n",
       "    }\n",
       "\n",
       "    .dataframe tbody tr th {\n",
       "        vertical-align: top;\n",
       "    }\n",
       "\n",
       "    .dataframe thead th {\n",
       "        text-align: right;\n",
       "    }\n",
       "</style>\n",
       "<table border=\"1\" class=\"dataframe\">\n",
       "  <thead>\n",
       "    <tr style=\"text-align: right;\">\n",
       "      <th></th>\n",
       "      <th>Shape_Leng</th>\n",
       "      <th>Shape_Area</th>\n",
       "      <th>ADM0_EN</th>\n",
       "      <th>ADM0_FR</th>\n",
       "      <th>ADM0_HT</th>\n",
       "      <th>ADM0_PCODE</th>\n",
       "      <th>ADM0_REF</th>\n",
       "      <th>ADM0ALT1EN</th>\n",
       "      <th>ADM0ALT2EN</th>\n",
       "      <th>ADM0ALT1FR</th>\n",
       "      <th>ADM0ALT2FR</th>\n",
       "      <th>ADM0ALT1HT</th>\n",
       "      <th>ADM0ALT2HT</th>\n",
       "      <th>date</th>\n",
       "      <th>validOn</th>\n",
       "      <th>validTo</th>\n",
       "      <th>geom</th>\n",
       "    </tr>\n",
       "  </thead>\n",
       "  <tbody>\n",
       "    <tr>\n",
       "      <th>0</th>\n",
       "      <td>21.376764</td>\n",
       "      <td>2.310924</td>\n",
       "      <td>Haiti</td>\n",
       "      <td>Haïti</td>\n",
       "      <td>Ayiti</td>\n",
       "      <td>HT</td>\n",
       "      <td>None</td>\n",
       "      <td>None</td>\n",
       "      <td>None</td>\n",
       "      <td>None</td>\n",
       "      <td>None</td>\n",
       "      <td>None</td>\n",
       "      <td>None</td>\n",
       "      <td>2017-09-06</td>\n",
       "      <td>2018-11-29</td>\n",
       "      <td>None</td>\n",
       "      <td>MULTIPOLYGON (((-73.70372158299995 18.10929985...</td>\n",
       "    </tr>\n",
       "  </tbody>\n",
       "</table>\n",
       "</div>"
      ],
      "text/plain": [
       "   Shape_Leng  Shape_Area ADM0_EN ADM0_FR ADM0_HT ADM0_PCODE ADM0_REF  \\\n",
       "0   21.376764    2.310924   Haiti   Haïti   Ayiti         HT     None   \n",
       "\n",
       "  ADM0ALT1EN ADM0ALT2EN ADM0ALT1FR ADM0ALT2FR ADM0ALT1HT ADM0ALT2HT  \\\n",
       "0       None       None       None       None       None       None   \n",
       "\n",
       "         date     validOn validTo  \\\n",
       "0  2017-09-06  2018-11-29    None   \n",
       "\n",
       "                                                geom  \n",
       "0  MULTIPOLYGON (((-73.70372158299995 18.10929985...  "
      ]
     },
     "execution_count": 50,
     "metadata": {},
     "output_type": "execute_result"
    }
   ],
   "source": [
    "gdf.head()"
   ]
  },
  {
   "cell_type": "code",
   "execution_count": 55,
   "metadata": {},
   "outputs": [],
   "source": [
    "# Imports\n",
    "from geoalchemy2 import Geometry, WKTElement\n",
    "from sqlalchemy import *\n",
    "import pandas as pd\n",
    "import geopandas as gpd\n",
    "\n",
    "# Creating SQLAlchemy's engine to use\n",
    "engine = get_posgres_connection()\n",
    "\n",
    "\n",
    "#geodataframe = gpd.GeoDataFrame(pd.DataFrame.from_csv('<your dataframe source>'))\n",
    "#... [do something with the geodataframe]\n",
    "gdf = gpd.read_file(\"hti_adm_cnigs_20181129/hti_admbnda_adm0_cnigs_20181129.shp\")\n",
    "\n",
    "#geodataframe['geom'] = geodataframe['geometry'].apply(lambda x: WKTElement(x.wkt, srid=<your_SRID>)\n",
    "gdf['geom'] = gdf['geometry'].apply(lambda x: WKTElement(x.wkt, srid= 4326))\n",
    "\n",
    "\n",
    "#drop the geometry column as it is now duplicative\n",
    "#geodataframe.drop('geometry', 1, inplace=True)\n",
    "gdf.drop('geometry', 1, inplace=True)\n",
    "\n",
    "# Use 'dtype' to specify column's type\n",
    "# For the geom column, we will use GeoAlchemy's type 'Geometry'\n",
    "gdf.to_sql(\"hti_shp_adm0\", engine, if_exists='replace', index=False, \n",
    "                         dtype={'geom': Geometry('MULTIPOLYGON', srid= 4326)})"
   ]
  },
  {
   "cell_type": "code",
   "execution_count": 58,
   "metadata": {},
   "outputs": [
    {
     "data": {
      "text/html": [
       "<div>\n",
       "<style scoped>\n",
       "    .dataframe tbody tr th:only-of-type {\n",
       "        vertical-align: middle;\n",
       "    }\n",
       "\n",
       "    .dataframe tbody tr th {\n",
       "        vertical-align: top;\n",
       "    }\n",
       "\n",
       "    .dataframe thead th {\n",
       "        text-align: right;\n",
       "    }\n",
       "</style>\n",
       "<table border=\"1\" class=\"dataframe\">\n",
       "  <thead>\n",
       "    <tr style=\"text-align: right;\">\n",
       "      <th></th>\n",
       "      <th>Shape_Leng</th>\n",
       "      <th>Shape_Area</th>\n",
       "      <th>ADM0_EN</th>\n",
       "      <th>ADM0_FR</th>\n",
       "      <th>ADM0_HT</th>\n",
       "      <th>ADM0_PCODE</th>\n",
       "      <th>ADM0_REF</th>\n",
       "      <th>ADM0ALT1EN</th>\n",
       "      <th>ADM0ALT2EN</th>\n",
       "      <th>ADM0ALT1FR</th>\n",
       "      <th>ADM0ALT2FR</th>\n",
       "      <th>ADM0ALT1HT</th>\n",
       "      <th>ADM0ALT2HT</th>\n",
       "      <th>date</th>\n",
       "      <th>validOn</th>\n",
       "      <th>validTo</th>\n",
       "      <th>geom</th>\n",
       "    </tr>\n",
       "  </thead>\n",
       "  <tbody>\n",
       "    <tr>\n",
       "      <th>0</th>\n",
       "      <td>21.376764</td>\n",
       "      <td>2.310924</td>\n",
       "      <td>Haiti</td>\n",
       "      <td>Haïti</td>\n",
       "      <td>Ayiti</td>\n",
       "      <td>HT</td>\n",
       "      <td>None</td>\n",
       "      <td>None</td>\n",
       "      <td>None</td>\n",
       "      <td>None</td>\n",
       "      <td>None</td>\n",
       "      <td>None</td>\n",
       "      <td>None</td>\n",
       "      <td>2017-09-06</td>\n",
       "      <td>2018-11-29</td>\n",
       "      <td>None</td>\n",
       "      <td>MULTIPOLYGON (((-73.70372 18.10930, -73.70315 ...</td>\n",
       "    </tr>\n",
       "  </tbody>\n",
       "</table>\n",
       "</div>"
      ],
      "text/plain": [
       "   Shape_Leng  Shape_Area ADM0_EN ADM0_FR ADM0_HT ADM0_PCODE ADM0_REF  \\\n",
       "0   21.376764    2.310924   Haiti   Haïti   Ayiti         HT     None   \n",
       "\n",
       "  ADM0ALT1EN ADM0ALT2EN ADM0ALT1FR ADM0ALT2FR ADM0ALT1HT ADM0ALT2HT  \\\n",
       "0       None       None       None       None       None       None   \n",
       "\n",
       "         date     validOn validTo  \\\n",
       "0  2017-09-06  2018-11-29    None   \n",
       "\n",
       "                                                geom  \n",
       "0  MULTIPOLYGON (((-73.70372 18.10930, -73.70315 ...  "
      ]
     },
     "execution_count": 58,
     "metadata": {},
     "output_type": "execute_result"
    }
   ],
   "source": [
    "new_gdf = gpd.read_postgis(\"select * from hti_shp_adm0;\",engine)\n",
    "new_gdf"
   ]
  },
  {
   "cell_type": "code",
   "execution_count": 99,
   "metadata": {},
   "outputs": [],
   "source": [
    "from geoalchemy2 import Geometry, WKTElement\n",
    "from sqlalchemy import *\n",
    "import pandas as pd\n",
    "import geopandas as gpd\n",
    "\n",
    "def load_shape_file_to_db(shape_file,table,engine):\n",
    "    \n",
    "    # Load shape file with geopandas\n",
    "    gdf = gpd.read_file(shape_file)\n",
    "\n",
    "    #Convert geometry column to WKTElement\n",
    "    gdf['geom'] = gdf['geometry'].apply(lambda x: WKTElement(x.wkt, srid= 4326))\n",
    "\n",
    "\n",
    "    #drop the geometry column as it is now duplicative\n",
    "    gdf.drop('geometry', 1, inplace=True)\n",
    "\n",
    "    # Use 'dtype' to specify column's type\n",
    "    # For the geom column, we will use GeoAlchemy's type 'Geometry'\n",
    "    gdf.to_sql(table, engine, if_exists='replace', index=False, \n",
    "                             dtype={'geom': Geometry('MULTIPOLYGON', srid= 4326)})\n",
    "    return None"
   ]
  },
  {
   "cell_type": "code",
   "execution_count": 60,
   "metadata": {},
   "outputs": [],
   "source": [
    "import glob"
   ]
  },
  {
   "cell_type": "code",
   "execution_count": 64,
   "metadata": {},
   "outputs": [
    {
     "data": {
      "text/plain": [
       "['hti_adm_cnigs_20181129/hti_admbnda_adm2_cnigs_20181129.shp',\n",
       " 'hti_adm_cnigs_20181129/hti_admbnda_adm1_cnigs_20181129.shp',\n",
       " 'hti_adm_cnigs_20181129/hti_admbnda_adm0_cnigs_20181129.shp',\n",
       " 'hti_adm_cnigs_20181129/hti_admbndl_admALL_cnigs_itos_20181129.shp',\n",
       " 'hti_adm_cnigs_20181129/hti_admbndp_admALL_cnigs_itos_20181129.shp',\n",
       " 'hti_adm_cnigs_20181129/hti_admbnda_adm3_cnigs_20181129.shp']"
      ]
     },
     "execution_count": 64,
     "metadata": {},
     "output_type": "execute_result"
    }
   ],
   "source": [
    "glob.glob(\"hti_adm_cnigs_20181129/*.shp\")"
   ]
  },
  {
   "cell_type": "code",
   "execution_count": 65,
   "metadata": {},
   "outputs": [],
   "source": [
    "shape_files = [\n",
    "    ('hti_adm_cnigs_20181129/hti_admbnda_adm0_cnigs_20181129.shp','hti_shp_adm0'),\n",
    "    ('hti_adm_cnigs_20181129/hti_admbnda_adm1_cnigs_20181129.shp','hti_shp_adm1'),\n",
    "    ('hti_adm_cnigs_20181129/hti_admbnda_adm2_cnigs_20181129.shp','hti_shp_adm2'),\n",
    "    ('hti_adm_cnigs_20181129/hti_admbnda_adm3_cnigs_20181129.shp','hti_shp_adm3'),\n",
    "]"
   ]
  },
  {
   "cell_type": "code",
   "execution_count": 77,
   "metadata": {},
   "outputs": [
    {
     "ename": "DataError",
     "evalue": "(psycopg2.errors.InvalidParameterValue) Geometry type (MultiPolygon) does not match column type (Polygon)\n\n[SQL: INSERT INTO hti_shp_adm0 (\"Shape_Leng\", \"Shape_Area\", \"ADM0_EN\", \"ADM0_FR\", \"ADM0_HT\", \"ADM0_PCODE\", \"ADM0_REF\", \"ADM0ALT1EN\", \"ADM0ALT2EN\", \"ADM0ALT1FR\", \"ADM0ALT2FR\", \"ADM0ALT1HT\", \"ADM0ALT2HT\", date, \"validOn\", \"validTo\", geom) VALUES (%(Shape_Leng)s, %(Shape_Area)s, %(ADM0_EN)s, %(ADM0_FR)s, %(ADM0_HT)s, %(ADM0_PCODE)s, %(ADM0_REF)s, %(ADM0ALT1EN)s, %(ADM0ALT2EN)s, %(ADM0ALT1FR)s, %(ADM0ALT2FR)s, %(ADM0ALT1HT)s, %(ADM0ALT2HT)s, %(date)s, %(validOn)s, %(validTo)s, ST_GeomFromEWKT(%(geom)s))]\n[parameters: {'Shape_Leng': 21.3767639454, 'Shape_Area': 2.31092395464, 'ADM0_EN': 'Haiti', 'ADM0_FR': 'Haïti', 'ADM0_HT': 'Ayiti', 'ADM0_PCODE': 'HT', 'ADM0_REF': None, 'ADM0ALT1EN': None, 'ADM0ALT2EN': None, 'ADM0ALT1FR': None, 'ADM0ALT2FR': None, 'ADM0ALT1HT': None, 'ADM0ALT2HT': None, 'date': '2017-09-06', 'validOn': '2018-11-29', 'validTo': None, 'geom': 'SRID=4326;MULTIPOLYGON (((-73.70372158299995 18.10929985900003, -73.70314518699996 18.10929598200005, -73.70265957399994 18.10978971900005, -73.70205 ... (435605 characters truncated) ... 82044400999996 20.08921899900002, -72.81449752199995 20.08922678200003, -72.80662042499995 20.08920146000003, -72.79594125299997 20.08582607100004)))'}]\n(Background on this error at: http://sqlalche.me/e/13/9h9h)",
     "output_type": "error",
     "traceback": [
      "\u001b[0;31m---------------------------------------------------------------------------\u001b[0m",
      "\u001b[0;31mInvalidParameterValue\u001b[0m                     Traceback (most recent call last)",
      "\u001b[0;32m/usr/local/lib/python3.8/site-packages/sqlalchemy/engine/base.py\u001b[0m in \u001b[0;36m_execute_context\u001b[0;34m(self, dialect, constructor, statement, parameters, *args)\u001b[0m\n\u001b[1;32m   1276\u001b[0m                 \u001b[0;32mif\u001b[0m \u001b[0;32mnot\u001b[0m \u001b[0mevt_handled\u001b[0m\u001b[0;34m:\u001b[0m\u001b[0;34m\u001b[0m\u001b[0;34m\u001b[0m\u001b[0m\n\u001b[0;32m-> 1277\u001b[0;31m                     self.dialect.do_execute(\n\u001b[0m\u001b[1;32m   1278\u001b[0m                         \u001b[0mcursor\u001b[0m\u001b[0;34m,\u001b[0m \u001b[0mstatement\u001b[0m\u001b[0;34m,\u001b[0m \u001b[0mparameters\u001b[0m\u001b[0;34m,\u001b[0m \u001b[0mcontext\u001b[0m\u001b[0;34m\u001b[0m\u001b[0;34m\u001b[0m\u001b[0m\n",
      "\u001b[0;32m/usr/local/lib/python3.8/site-packages/sqlalchemy/engine/default.py\u001b[0m in \u001b[0;36mdo_execute\u001b[0;34m(self, cursor, statement, parameters, context)\u001b[0m\n\u001b[1;32m    592\u001b[0m     \u001b[0;32mdef\u001b[0m \u001b[0mdo_execute\u001b[0m\u001b[0;34m(\u001b[0m\u001b[0mself\u001b[0m\u001b[0;34m,\u001b[0m \u001b[0mcursor\u001b[0m\u001b[0;34m,\u001b[0m \u001b[0mstatement\u001b[0m\u001b[0;34m,\u001b[0m \u001b[0mparameters\u001b[0m\u001b[0;34m,\u001b[0m \u001b[0mcontext\u001b[0m\u001b[0;34m=\u001b[0m\u001b[0;32mNone\u001b[0m\u001b[0;34m)\u001b[0m\u001b[0;34m:\u001b[0m\u001b[0;34m\u001b[0m\u001b[0;34m\u001b[0m\u001b[0m\n\u001b[0;32m--> 593\u001b[0;31m         \u001b[0mcursor\u001b[0m\u001b[0;34m.\u001b[0m\u001b[0mexecute\u001b[0m\u001b[0;34m(\u001b[0m\u001b[0mstatement\u001b[0m\u001b[0;34m,\u001b[0m \u001b[0mparameters\u001b[0m\u001b[0;34m)\u001b[0m\u001b[0;34m\u001b[0m\u001b[0;34m\u001b[0m\u001b[0m\n\u001b[0m\u001b[1;32m    594\u001b[0m \u001b[0;34m\u001b[0m\u001b[0m\n",
      "\u001b[0;31mInvalidParameterValue\u001b[0m: Geometry type (MultiPolygon) does not match column type (Polygon)\n",
      "\nThe above exception was the direct cause of the following exception:\n",
      "\u001b[0;31mDataError\u001b[0m                                 Traceback (most recent call last)",
      "\u001b[0;32m<ipython-input-77-fc3493b8ac6c>\u001b[0m in \u001b[0;36m<module>\u001b[0;34m\u001b[0m\n\u001b[1;32m      3\u001b[0m     \u001b[0mfile_name\u001b[0m \u001b[0;34m=\u001b[0m \u001b[0mfile\u001b[0m\u001b[0;34m[\u001b[0m\u001b[0;36m1\u001b[0m\u001b[0;34m]\u001b[0m\u001b[0;34m\u001b[0m\u001b[0;34m\u001b[0m\u001b[0m\n\u001b[1;32m      4\u001b[0m     \u001b[0mpsql_engine\u001b[0m \u001b[0;34m=\u001b[0m \u001b[0mget_posgres_connection\u001b[0m\u001b[0;34m(\u001b[0m\u001b[0;34m)\u001b[0m\u001b[0;34m\u001b[0m\u001b[0;34m\u001b[0m\u001b[0m\n\u001b[0;32m----> 5\u001b[0;31m     \u001b[0mload_shape_file_to_db\u001b[0m\u001b[0;34m(\u001b[0m\u001b[0mfile_path\u001b[0m\u001b[0;34m,\u001b[0m\u001b[0mfile_name\u001b[0m\u001b[0;34m,\u001b[0m\u001b[0mpsql_engine\u001b[0m\u001b[0;34m)\u001b[0m\u001b[0;34m\u001b[0m\u001b[0;34m\u001b[0m\u001b[0m\n\u001b[0m",
      "\u001b[0;32m<ipython-input-76-a52c4fd32748>\u001b[0m in \u001b[0;36mload_shape_file_to_db\u001b[0;34m(shape_file, table, engine)\u001b[0m\n\u001b[1;32m     18\u001b[0m     \u001b[0;31m# Use 'dtype' to specify column's type\u001b[0m\u001b[0;34m\u001b[0m\u001b[0;34m\u001b[0m\u001b[0;34m\u001b[0m\u001b[0m\n\u001b[1;32m     19\u001b[0m     \u001b[0;31m# For the geom column, we will use GeoAlchemy's type 'Geometry'\u001b[0m\u001b[0;34m\u001b[0m\u001b[0;34m\u001b[0m\u001b[0;34m\u001b[0m\u001b[0m\n\u001b[0;32m---> 20\u001b[0;31m     gdf.to_sql(table, engine, if_exists='replace', index=False, \n\u001b[0m\u001b[1;32m     21\u001b[0m                              dtype={'geom': Geometry('POLYGON', srid= 4326)})\n\u001b[1;32m     22\u001b[0m     \u001b[0;32mreturn\u001b[0m \u001b[0;32mNone\u001b[0m\u001b[0;34m\u001b[0m\u001b[0;34m\u001b[0m\u001b[0m\n",
      "\u001b[0;32m/usr/local/lib/python3.8/site-packages/pandas/core/generic.py\u001b[0m in \u001b[0;36mto_sql\u001b[0;34m(self, name, con, schema, if_exists, index, index_label, chunksize, dtype, method)\u001b[0m\n\u001b[1;32m   2651\u001b[0m         \u001b[0;32mfrom\u001b[0m \u001b[0mpandas\u001b[0m\u001b[0;34m.\u001b[0m\u001b[0mio\u001b[0m \u001b[0;32mimport\u001b[0m \u001b[0msql\u001b[0m\u001b[0;34m\u001b[0m\u001b[0;34m\u001b[0m\u001b[0m\n\u001b[1;32m   2652\u001b[0m \u001b[0;34m\u001b[0m\u001b[0m\n\u001b[0;32m-> 2653\u001b[0;31m         sql.to_sql(\n\u001b[0m\u001b[1;32m   2654\u001b[0m             \u001b[0mself\u001b[0m\u001b[0;34m,\u001b[0m\u001b[0;34m\u001b[0m\u001b[0;34m\u001b[0m\u001b[0m\n\u001b[1;32m   2655\u001b[0m             \u001b[0mname\u001b[0m\u001b[0;34m,\u001b[0m\u001b[0;34m\u001b[0m\u001b[0;34m\u001b[0m\u001b[0m\n",
      "\u001b[0;32m/usr/local/lib/python3.8/site-packages/pandas/io/sql.py\u001b[0m in \u001b[0;36mto_sql\u001b[0;34m(frame, name, con, schema, if_exists, index, index_label, chunksize, dtype, method)\u001b[0m\n\u001b[1;32m    510\u001b[0m         )\n\u001b[1;32m    511\u001b[0m \u001b[0;34m\u001b[0m\u001b[0m\n\u001b[0;32m--> 512\u001b[0;31m     pandas_sql.to_sql(\n\u001b[0m\u001b[1;32m    513\u001b[0m         \u001b[0mframe\u001b[0m\u001b[0;34m,\u001b[0m\u001b[0;34m\u001b[0m\u001b[0;34m\u001b[0m\u001b[0m\n\u001b[1;32m    514\u001b[0m         \u001b[0mname\u001b[0m\u001b[0;34m,\u001b[0m\u001b[0;34m\u001b[0m\u001b[0;34m\u001b[0m\u001b[0m\n",
      "\u001b[0;32m/usr/local/lib/python3.8/site-packages/pandas/io/sql.py\u001b[0m in \u001b[0;36mto_sql\u001b[0;34m(self, frame, name, if_exists, index, index_label, schema, chunksize, dtype, method)\u001b[0m\n\u001b[1;32m   1315\u001b[0m         )\n\u001b[1;32m   1316\u001b[0m         \u001b[0mtable\u001b[0m\u001b[0;34m.\u001b[0m\u001b[0mcreate\u001b[0m\u001b[0;34m(\u001b[0m\u001b[0;34m)\u001b[0m\u001b[0;34m\u001b[0m\u001b[0;34m\u001b[0m\u001b[0m\n\u001b[0;32m-> 1317\u001b[0;31m         \u001b[0mtable\u001b[0m\u001b[0;34m.\u001b[0m\u001b[0minsert\u001b[0m\u001b[0;34m(\u001b[0m\u001b[0mchunksize\u001b[0m\u001b[0;34m,\u001b[0m \u001b[0mmethod\u001b[0m\u001b[0;34m=\u001b[0m\u001b[0mmethod\u001b[0m\u001b[0;34m)\u001b[0m\u001b[0;34m\u001b[0m\u001b[0;34m\u001b[0m\u001b[0m\n\u001b[0m\u001b[1;32m   1318\u001b[0m         \u001b[0;32mif\u001b[0m \u001b[0;32mnot\u001b[0m \u001b[0mname\u001b[0m\u001b[0;34m.\u001b[0m\u001b[0misdigit\u001b[0m\u001b[0;34m(\u001b[0m\u001b[0;34m)\u001b[0m \u001b[0;32mand\u001b[0m \u001b[0;32mnot\u001b[0m \u001b[0mname\u001b[0m\u001b[0;34m.\u001b[0m\u001b[0mislower\u001b[0m\u001b[0;34m(\u001b[0m\u001b[0;34m)\u001b[0m\u001b[0;34m:\u001b[0m\u001b[0;34m\u001b[0m\u001b[0;34m\u001b[0m\u001b[0m\n\u001b[1;32m   1319\u001b[0m             \u001b[0;31m# check for potentially case sensitivity issues (GH7815)\u001b[0m\u001b[0;34m\u001b[0m\u001b[0;34m\u001b[0m\u001b[0;34m\u001b[0m\u001b[0m\n",
      "\u001b[0;32m/usr/local/lib/python3.8/site-packages/pandas/io/sql.py\u001b[0m in \u001b[0;36minsert\u001b[0;34m(self, chunksize, method)\u001b[0m\n\u001b[1;32m    753\u001b[0m \u001b[0;34m\u001b[0m\u001b[0m\n\u001b[1;32m    754\u001b[0m                 \u001b[0mchunk_iter\u001b[0m \u001b[0;34m=\u001b[0m \u001b[0mzip\u001b[0m\u001b[0;34m(\u001b[0m\u001b[0;34m*\u001b[0m\u001b[0;34m[\u001b[0m\u001b[0marr\u001b[0m\u001b[0;34m[\u001b[0m\u001b[0mstart_i\u001b[0m\u001b[0;34m:\u001b[0m\u001b[0mend_i\u001b[0m\u001b[0;34m]\u001b[0m \u001b[0;32mfor\u001b[0m \u001b[0marr\u001b[0m \u001b[0;32min\u001b[0m \u001b[0mdata_list\u001b[0m\u001b[0;34m]\u001b[0m\u001b[0;34m)\u001b[0m\u001b[0;34m\u001b[0m\u001b[0;34m\u001b[0m\u001b[0m\n\u001b[0;32m--> 755\u001b[0;31m                 \u001b[0mexec_insert\u001b[0m\u001b[0;34m(\u001b[0m\u001b[0mconn\u001b[0m\u001b[0;34m,\u001b[0m \u001b[0mkeys\u001b[0m\u001b[0;34m,\u001b[0m \u001b[0mchunk_iter\u001b[0m\u001b[0;34m)\u001b[0m\u001b[0;34m\u001b[0m\u001b[0;34m\u001b[0m\u001b[0m\n\u001b[0m\u001b[1;32m    756\u001b[0m \u001b[0;34m\u001b[0m\u001b[0m\n\u001b[1;32m    757\u001b[0m     def _query_iterator(\n",
      "\u001b[0;32m/usr/local/lib/python3.8/site-packages/pandas/io/sql.py\u001b[0m in \u001b[0;36m_execute_insert\u001b[0;34m(self, conn, keys, data_iter)\u001b[0m\n\u001b[1;32m    667\u001b[0m         \"\"\"\n\u001b[1;32m    668\u001b[0m         \u001b[0mdata\u001b[0m \u001b[0;34m=\u001b[0m \u001b[0;34m[\u001b[0m\u001b[0mdict\u001b[0m\u001b[0;34m(\u001b[0m\u001b[0mzip\u001b[0m\u001b[0;34m(\u001b[0m\u001b[0mkeys\u001b[0m\u001b[0;34m,\u001b[0m \u001b[0mrow\u001b[0m\u001b[0;34m)\u001b[0m\u001b[0;34m)\u001b[0m \u001b[0;32mfor\u001b[0m \u001b[0mrow\u001b[0m \u001b[0;32min\u001b[0m \u001b[0mdata_iter\u001b[0m\u001b[0;34m]\u001b[0m\u001b[0;34m\u001b[0m\u001b[0;34m\u001b[0m\u001b[0m\n\u001b[0;32m--> 669\u001b[0;31m         \u001b[0mconn\u001b[0m\u001b[0;34m.\u001b[0m\u001b[0mexecute\u001b[0m\u001b[0;34m(\u001b[0m\u001b[0mself\u001b[0m\u001b[0;34m.\u001b[0m\u001b[0mtable\u001b[0m\u001b[0;34m.\u001b[0m\u001b[0minsert\u001b[0m\u001b[0;34m(\u001b[0m\u001b[0;34m)\u001b[0m\u001b[0;34m,\u001b[0m \u001b[0mdata\u001b[0m\u001b[0;34m)\u001b[0m\u001b[0;34m\u001b[0m\u001b[0;34m\u001b[0m\u001b[0m\n\u001b[0m\u001b[1;32m    670\u001b[0m \u001b[0;34m\u001b[0m\u001b[0m\n\u001b[1;32m    671\u001b[0m     \u001b[0;32mdef\u001b[0m \u001b[0m_execute_insert_multi\u001b[0m\u001b[0;34m(\u001b[0m\u001b[0mself\u001b[0m\u001b[0;34m,\u001b[0m \u001b[0mconn\u001b[0m\u001b[0;34m,\u001b[0m \u001b[0mkeys\u001b[0m\u001b[0;34m,\u001b[0m \u001b[0mdata_iter\u001b[0m\u001b[0;34m)\u001b[0m\u001b[0;34m:\u001b[0m\u001b[0;34m\u001b[0m\u001b[0;34m\u001b[0m\u001b[0m\n",
      "\u001b[0;32m/usr/local/lib/python3.8/site-packages/sqlalchemy/engine/base.py\u001b[0m in \u001b[0;36mexecute\u001b[0;34m(self, object_, *multiparams, **params)\u001b[0m\n\u001b[1;32m   1012\u001b[0m             )\n\u001b[1;32m   1013\u001b[0m         \u001b[0;32melse\u001b[0m\u001b[0;34m:\u001b[0m\u001b[0;34m\u001b[0m\u001b[0;34m\u001b[0m\u001b[0m\n\u001b[0;32m-> 1014\u001b[0;31m             \u001b[0;32mreturn\u001b[0m \u001b[0mmeth\u001b[0m\u001b[0;34m(\u001b[0m\u001b[0mself\u001b[0m\u001b[0;34m,\u001b[0m \u001b[0mmultiparams\u001b[0m\u001b[0;34m,\u001b[0m \u001b[0mparams\u001b[0m\u001b[0;34m)\u001b[0m\u001b[0;34m\u001b[0m\u001b[0;34m\u001b[0m\u001b[0m\n\u001b[0m\u001b[1;32m   1015\u001b[0m \u001b[0;34m\u001b[0m\u001b[0m\n\u001b[1;32m   1016\u001b[0m     \u001b[0;32mdef\u001b[0m \u001b[0m_execute_function\u001b[0m\u001b[0;34m(\u001b[0m\u001b[0mself\u001b[0m\u001b[0;34m,\u001b[0m \u001b[0mfunc\u001b[0m\u001b[0;34m,\u001b[0m \u001b[0mmultiparams\u001b[0m\u001b[0;34m,\u001b[0m \u001b[0mparams\u001b[0m\u001b[0;34m)\u001b[0m\u001b[0;34m:\u001b[0m\u001b[0;34m\u001b[0m\u001b[0;34m\u001b[0m\u001b[0m\n",
      "\u001b[0;32m/usr/local/lib/python3.8/site-packages/sqlalchemy/sql/elements.py\u001b[0m in \u001b[0;36m_execute_on_connection\u001b[0;34m(self, connection, multiparams, params)\u001b[0m\n\u001b[1;32m    296\u001b[0m     \u001b[0;32mdef\u001b[0m \u001b[0m_execute_on_connection\u001b[0m\u001b[0;34m(\u001b[0m\u001b[0mself\u001b[0m\u001b[0;34m,\u001b[0m \u001b[0mconnection\u001b[0m\u001b[0;34m,\u001b[0m \u001b[0mmultiparams\u001b[0m\u001b[0;34m,\u001b[0m \u001b[0mparams\u001b[0m\u001b[0;34m)\u001b[0m\u001b[0;34m:\u001b[0m\u001b[0;34m\u001b[0m\u001b[0;34m\u001b[0m\u001b[0m\n\u001b[1;32m    297\u001b[0m         \u001b[0;32mif\u001b[0m \u001b[0mself\u001b[0m\u001b[0;34m.\u001b[0m\u001b[0msupports_execution\u001b[0m\u001b[0;34m:\u001b[0m\u001b[0;34m\u001b[0m\u001b[0;34m\u001b[0m\u001b[0m\n\u001b[0;32m--> 298\u001b[0;31m             \u001b[0;32mreturn\u001b[0m \u001b[0mconnection\u001b[0m\u001b[0;34m.\u001b[0m\u001b[0m_execute_clauseelement\u001b[0m\u001b[0;34m(\u001b[0m\u001b[0mself\u001b[0m\u001b[0;34m,\u001b[0m \u001b[0mmultiparams\u001b[0m\u001b[0;34m,\u001b[0m \u001b[0mparams\u001b[0m\u001b[0;34m)\u001b[0m\u001b[0;34m\u001b[0m\u001b[0;34m\u001b[0m\u001b[0m\n\u001b[0m\u001b[1;32m    299\u001b[0m         \u001b[0;32melse\u001b[0m\u001b[0;34m:\u001b[0m\u001b[0;34m\u001b[0m\u001b[0;34m\u001b[0m\u001b[0m\n\u001b[1;32m    300\u001b[0m             \u001b[0;32mraise\u001b[0m \u001b[0mexc\u001b[0m\u001b[0;34m.\u001b[0m\u001b[0mObjectNotExecutableError\u001b[0m\u001b[0;34m(\u001b[0m\u001b[0mself\u001b[0m\u001b[0;34m)\u001b[0m\u001b[0;34m\u001b[0m\u001b[0;34m\u001b[0m\u001b[0m\n",
      "\u001b[0;32m/usr/local/lib/python3.8/site-packages/sqlalchemy/engine/base.py\u001b[0m in \u001b[0;36m_execute_clauseelement\u001b[0;34m(self, elem, multiparams, params)\u001b[0m\n\u001b[1;32m   1125\u001b[0m             )\n\u001b[1;32m   1126\u001b[0m \u001b[0;34m\u001b[0m\u001b[0m\n\u001b[0;32m-> 1127\u001b[0;31m         ret = self._execute_context(\n\u001b[0m\u001b[1;32m   1128\u001b[0m             \u001b[0mdialect\u001b[0m\u001b[0;34m,\u001b[0m\u001b[0;34m\u001b[0m\u001b[0;34m\u001b[0m\u001b[0m\n\u001b[1;32m   1129\u001b[0m             \u001b[0mdialect\u001b[0m\u001b[0;34m.\u001b[0m\u001b[0mexecution_ctx_cls\u001b[0m\u001b[0;34m.\u001b[0m\u001b[0m_init_compiled\u001b[0m\u001b[0;34m,\u001b[0m\u001b[0;34m\u001b[0m\u001b[0;34m\u001b[0m\u001b[0m\n",
      "\u001b[0;32m/usr/local/lib/python3.8/site-packages/sqlalchemy/engine/base.py\u001b[0m in \u001b[0;36m_execute_context\u001b[0;34m(self, dialect, constructor, statement, parameters, *args)\u001b[0m\n\u001b[1;32m   1315\u001b[0m \u001b[0;34m\u001b[0m\u001b[0m\n\u001b[1;32m   1316\u001b[0m         \u001b[0;32mexcept\u001b[0m \u001b[0mBaseException\u001b[0m \u001b[0;32mas\u001b[0m \u001b[0me\u001b[0m\u001b[0;34m:\u001b[0m\u001b[0;34m\u001b[0m\u001b[0;34m\u001b[0m\u001b[0m\n\u001b[0;32m-> 1317\u001b[0;31m             self._handle_dbapi_exception(\n\u001b[0m\u001b[1;32m   1318\u001b[0m                 \u001b[0me\u001b[0m\u001b[0;34m,\u001b[0m \u001b[0mstatement\u001b[0m\u001b[0;34m,\u001b[0m \u001b[0mparameters\u001b[0m\u001b[0;34m,\u001b[0m \u001b[0mcursor\u001b[0m\u001b[0;34m,\u001b[0m \u001b[0mcontext\u001b[0m\u001b[0;34m\u001b[0m\u001b[0;34m\u001b[0m\u001b[0m\n\u001b[1;32m   1319\u001b[0m             )\n",
      "\u001b[0;32m/usr/local/lib/python3.8/site-packages/sqlalchemy/engine/base.py\u001b[0m in \u001b[0;36m_handle_dbapi_exception\u001b[0;34m(self, e, statement, parameters, cursor, context)\u001b[0m\n\u001b[1;32m   1509\u001b[0m                 \u001b[0mutil\u001b[0m\u001b[0;34m.\u001b[0m\u001b[0mraise_\u001b[0m\u001b[0;34m(\u001b[0m\u001b[0mnewraise\u001b[0m\u001b[0;34m,\u001b[0m \u001b[0mwith_traceback\u001b[0m\u001b[0;34m=\u001b[0m\u001b[0mexc_info\u001b[0m\u001b[0;34m[\u001b[0m\u001b[0;36m2\u001b[0m\u001b[0;34m]\u001b[0m\u001b[0;34m,\u001b[0m \u001b[0mfrom_\u001b[0m\u001b[0;34m=\u001b[0m\u001b[0me\u001b[0m\u001b[0;34m)\u001b[0m\u001b[0;34m\u001b[0m\u001b[0;34m\u001b[0m\u001b[0m\n\u001b[1;32m   1510\u001b[0m             \u001b[0;32melif\u001b[0m \u001b[0mshould_wrap\u001b[0m\u001b[0;34m:\u001b[0m\u001b[0;34m\u001b[0m\u001b[0;34m\u001b[0m\u001b[0m\n\u001b[0;32m-> 1511\u001b[0;31m                 util.raise_(\n\u001b[0m\u001b[1;32m   1512\u001b[0m                     \u001b[0msqlalchemy_exception\u001b[0m\u001b[0;34m,\u001b[0m \u001b[0mwith_traceback\u001b[0m\u001b[0;34m=\u001b[0m\u001b[0mexc_info\u001b[0m\u001b[0;34m[\u001b[0m\u001b[0;36m2\u001b[0m\u001b[0;34m]\u001b[0m\u001b[0;34m,\u001b[0m \u001b[0mfrom_\u001b[0m\u001b[0;34m=\u001b[0m\u001b[0me\u001b[0m\u001b[0;34m\u001b[0m\u001b[0;34m\u001b[0m\u001b[0m\n\u001b[1;32m   1513\u001b[0m                 )\n",
      "\u001b[0;32m/usr/local/lib/python3.8/site-packages/sqlalchemy/util/compat.py\u001b[0m in \u001b[0;36mraise_\u001b[0;34m(***failed resolving arguments***)\u001b[0m\n\u001b[1;32m    176\u001b[0m \u001b[0;34m\u001b[0m\u001b[0m\n\u001b[1;32m    177\u001b[0m         \u001b[0;32mtry\u001b[0m\u001b[0;34m:\u001b[0m\u001b[0;34m\u001b[0m\u001b[0;34m\u001b[0m\u001b[0m\n\u001b[0;32m--> 178\u001b[0;31m             \u001b[0;32mraise\u001b[0m \u001b[0mexception\u001b[0m\u001b[0;34m\u001b[0m\u001b[0;34m\u001b[0m\u001b[0m\n\u001b[0m\u001b[1;32m    179\u001b[0m         \u001b[0;32mfinally\u001b[0m\u001b[0;34m:\u001b[0m\u001b[0;34m\u001b[0m\u001b[0;34m\u001b[0m\u001b[0m\n\u001b[1;32m    180\u001b[0m             \u001b[0;31m# credit to\u001b[0m\u001b[0;34m\u001b[0m\u001b[0;34m\u001b[0m\u001b[0;34m\u001b[0m\u001b[0m\n",
      "\u001b[0;32m/usr/local/lib/python3.8/site-packages/sqlalchemy/engine/base.py\u001b[0m in \u001b[0;36m_execute_context\u001b[0;34m(self, dialect, constructor, statement, parameters, *args)\u001b[0m\n\u001b[1;32m   1275\u001b[0m                             \u001b[0;32mbreak\u001b[0m\u001b[0;34m\u001b[0m\u001b[0;34m\u001b[0m\u001b[0m\n\u001b[1;32m   1276\u001b[0m                 \u001b[0;32mif\u001b[0m \u001b[0;32mnot\u001b[0m \u001b[0mevt_handled\u001b[0m\u001b[0;34m:\u001b[0m\u001b[0;34m\u001b[0m\u001b[0;34m\u001b[0m\u001b[0m\n\u001b[0;32m-> 1277\u001b[0;31m                     self.dialect.do_execute(\n\u001b[0m\u001b[1;32m   1278\u001b[0m                         \u001b[0mcursor\u001b[0m\u001b[0;34m,\u001b[0m \u001b[0mstatement\u001b[0m\u001b[0;34m,\u001b[0m \u001b[0mparameters\u001b[0m\u001b[0;34m,\u001b[0m \u001b[0mcontext\u001b[0m\u001b[0;34m\u001b[0m\u001b[0;34m\u001b[0m\u001b[0m\n\u001b[1;32m   1279\u001b[0m                     )\n",
      "\u001b[0;32m/usr/local/lib/python3.8/site-packages/sqlalchemy/engine/default.py\u001b[0m in \u001b[0;36mdo_execute\u001b[0;34m(self, cursor, statement, parameters, context)\u001b[0m\n\u001b[1;32m    591\u001b[0m \u001b[0;34m\u001b[0m\u001b[0m\n\u001b[1;32m    592\u001b[0m     \u001b[0;32mdef\u001b[0m \u001b[0mdo_execute\u001b[0m\u001b[0;34m(\u001b[0m\u001b[0mself\u001b[0m\u001b[0;34m,\u001b[0m \u001b[0mcursor\u001b[0m\u001b[0;34m,\u001b[0m \u001b[0mstatement\u001b[0m\u001b[0;34m,\u001b[0m \u001b[0mparameters\u001b[0m\u001b[0;34m,\u001b[0m \u001b[0mcontext\u001b[0m\u001b[0;34m=\u001b[0m\u001b[0;32mNone\u001b[0m\u001b[0;34m)\u001b[0m\u001b[0;34m:\u001b[0m\u001b[0;34m\u001b[0m\u001b[0;34m\u001b[0m\u001b[0m\n\u001b[0;32m--> 593\u001b[0;31m         \u001b[0mcursor\u001b[0m\u001b[0;34m.\u001b[0m\u001b[0mexecute\u001b[0m\u001b[0;34m(\u001b[0m\u001b[0mstatement\u001b[0m\u001b[0;34m,\u001b[0m \u001b[0mparameters\u001b[0m\u001b[0;34m)\u001b[0m\u001b[0;34m\u001b[0m\u001b[0;34m\u001b[0m\u001b[0m\n\u001b[0m\u001b[1;32m    594\u001b[0m \u001b[0;34m\u001b[0m\u001b[0m\n\u001b[1;32m    595\u001b[0m     \u001b[0;32mdef\u001b[0m \u001b[0mdo_execute_no_params\u001b[0m\u001b[0;34m(\u001b[0m\u001b[0mself\u001b[0m\u001b[0;34m,\u001b[0m \u001b[0mcursor\u001b[0m\u001b[0;34m,\u001b[0m \u001b[0mstatement\u001b[0m\u001b[0;34m,\u001b[0m \u001b[0mcontext\u001b[0m\u001b[0;34m=\u001b[0m\u001b[0;32mNone\u001b[0m\u001b[0;34m)\u001b[0m\u001b[0;34m:\u001b[0m\u001b[0;34m\u001b[0m\u001b[0;34m\u001b[0m\u001b[0m\n",
      "\u001b[0;31mDataError\u001b[0m: (psycopg2.errors.InvalidParameterValue) Geometry type (MultiPolygon) does not match column type (Polygon)\n\n[SQL: INSERT INTO hti_shp_adm0 (\"Shape_Leng\", \"Shape_Area\", \"ADM0_EN\", \"ADM0_FR\", \"ADM0_HT\", \"ADM0_PCODE\", \"ADM0_REF\", \"ADM0ALT1EN\", \"ADM0ALT2EN\", \"ADM0ALT1FR\", \"ADM0ALT2FR\", \"ADM0ALT1HT\", \"ADM0ALT2HT\", date, \"validOn\", \"validTo\", geom) VALUES (%(Shape_Leng)s, %(Shape_Area)s, %(ADM0_EN)s, %(ADM0_FR)s, %(ADM0_HT)s, %(ADM0_PCODE)s, %(ADM0_REF)s, %(ADM0ALT1EN)s, %(ADM0ALT2EN)s, %(ADM0ALT1FR)s, %(ADM0ALT2FR)s, %(ADM0ALT1HT)s, %(ADM0ALT2HT)s, %(date)s, %(validOn)s, %(validTo)s, ST_GeomFromEWKT(%(geom)s))]\n[parameters: {'Shape_Leng': 21.3767639454, 'Shape_Area': 2.31092395464, 'ADM0_EN': 'Haiti', 'ADM0_FR': 'Haïti', 'ADM0_HT': 'Ayiti', 'ADM0_PCODE': 'HT', 'ADM0_REF': None, 'ADM0ALT1EN': None, 'ADM0ALT2EN': None, 'ADM0ALT1FR': None, 'ADM0ALT2FR': None, 'ADM0ALT1HT': None, 'ADM0ALT2HT': None, 'date': '2017-09-06', 'validOn': '2018-11-29', 'validTo': None, 'geom': 'SRID=4326;MULTIPOLYGON (((-73.70372158299995 18.10929985900003, -73.70314518699996 18.10929598200005, -73.70265957399994 18.10978971900005, -73.70205 ... (435605 characters truncated) ... 82044400999996 20.08921899900002, -72.81449752199995 20.08922678200003, -72.80662042499995 20.08920146000003, -72.79594125299997 20.08582607100004)))'}]\n(Background on this error at: http://sqlalche.me/e/13/9h9h)"
     ]
    }
   ],
   "source": [
    "# I want to load each shape file identified in my list with the tuple-pair values\n",
    "for file in shape_files:\n",
    "    file_path =  file[0]\n",
    "    file_name = file[1]\n",
    "    psql_engine = get_posgres_connection()\n",
    "    load_shape_file_to_db(file_path,file_name,psql_engine)"
   ]
  },
  {
   "cell_type": "code",
   "execution_count": null,
   "metadata": {},
   "outputs": [],
   "source": []
  },
  {
   "cell_type": "markdown",
   "metadata": {},
   "source": [
    "# Fixing importation of files adm1 and adm2\n",
    "Below I fix the import error by loading each file individually and attempting to load it with different parameters.In order to load the data for adm1 and adm2 boundaries which have both polygon and multipolygons in the geometry column. To load the datasets I had to allow the column the PostGIS table to have both polygon and multipolygons in a single column by running the following commands after I ran the functions the first time with `if_exists = 'replace`.\n",
    "\n",
    " `ALTER TABLE hti_shp_adm1 ALTER COLUMN geom TYPE geometry(Geometry,4326);\n",
    "ALTER TABLE hti_shp_adm2 ALTER COLUMN geom TYPE geometry(Geometry,4326);`\n",
    "I ran these sql statements after I received an error, I then proceed to rerun the functions but change `if_exists ='append'` since the tables had already been created.\n",
    "\n",
    "I can improve this code by simply running the sql to generate the tables first, run the code to alter the columns in the respective tables and then load the data.\n"
   ]
  },
  {
   "cell_type": "code",
   "execution_count": null,
   "metadata": {},
   "outputs": [],
   "source": [
    "def load_shape_file_to_db(shape_file,table,engine,geom_type ='MULTIPOLYGON',if_exists ='replace',srid = 4326):\n",
    "    \"\"\"\n",
    "    This function will load a shape file to a PostGIS database system.\n",
    "    shape_file str: path to shapefile\n",
    "    table str:name of database file to load to POSTGIS\n",
    "    engine sqlalchemy.Engine: A sqlAlchemy POSTGIS Engine Object\n",
    "    if_exists str: method of upload to database, default is \"replace\"\n",
    "    srid int: format ID of shape files, this can be discovered by using the\n",
    "    \n",
    "    \"\"\"\n",
    "    # Load shape file with geopandas\n",
    "    gdf = gpd.read_file(shape_file)\n",
    "\n",
    "    #Convert geometry column to WKTElement\n",
    "    gdf['geom'] = gdf['geometry'].apply(lambda x: WKTElement(x.wkt, srid= 4326))\n",
    "\n",
    "\n",
    "    #drop the geometry column as it is now duplicative\n",
    "    gdf.drop('geometry', 1, inplace=True)\n",
    "\n",
    "    # Use 'dtype' to specify column's type\n",
    "    # For the geom column, we will use GeoAlchemy's type 'Geometry'\n",
    "    gdf.to_sql(table, engine, if_exists= if_exists, index=False, \n",
    "                             dtype={'geom': Geometry(geom_type, srid= 4326)})\n",
    "    return None"
   ]
  },
  {
   "cell_type": "code",
   "execution_count": 90,
   "metadata": {},
   "outputs": [
    {
     "data": {
      "text/html": [
       "<div>\n",
       "<style scoped>\n",
       "    .dataframe tbody tr th:only-of-type {\n",
       "        vertical-align: middle;\n",
       "    }\n",
       "\n",
       "    .dataframe tbody tr th {\n",
       "        vertical-align: top;\n",
       "    }\n",
       "\n",
       "    .dataframe thead th {\n",
       "        text-align: right;\n",
       "    }\n",
       "</style>\n",
       "<table border=\"1\" class=\"dataframe\">\n",
       "  <thead>\n",
       "    <tr style=\"text-align: right;\">\n",
       "      <th></th>\n",
       "      <th>Shape_Leng</th>\n",
       "      <th>Shape_Area</th>\n",
       "      <th>ADM1_EN</th>\n",
       "      <th>ADM1_FR</th>\n",
       "      <th>ADM1_HT</th>\n",
       "      <th>ADM1_PCODE</th>\n",
       "      <th>ADM1_REF</th>\n",
       "      <th>ADM1ALT1EN</th>\n",
       "      <th>ADM1ALT2EN</th>\n",
       "      <th>ADM1ALT1FR</th>\n",
       "      <th>...</th>\n",
       "      <th>ADM1ALT1HT</th>\n",
       "      <th>ADM1ALT2HT</th>\n",
       "      <th>ADM0_EN</th>\n",
       "      <th>ADM0_FR</th>\n",
       "      <th>ADM0_HT</th>\n",
       "      <th>ADM0_PCODE</th>\n",
       "      <th>date</th>\n",
       "      <th>validOn</th>\n",
       "      <th>validTo</th>\n",
       "      <th>geometry</th>\n",
       "    </tr>\n",
       "  </thead>\n",
       "  <tbody>\n",
       "    <tr>\n",
       "      <th>0</th>\n",
       "      <td>4.993649</td>\n",
       "      <td>0.417618</td>\n",
       "      <td>Artibonite</td>\n",
       "      <td>Artibonite</td>\n",
       "      <td>Latibonit</td>\n",
       "      <td>HT05</td>\n",
       "      <td>None</td>\n",
       "      <td>None</td>\n",
       "      <td>None</td>\n",
       "      <td>None</td>\n",
       "      <td>...</td>\n",
       "      <td>None</td>\n",
       "      <td>None</td>\n",
       "      <td>Haiti</td>\n",
       "      <td>Haïti</td>\n",
       "      <td>Ayiti</td>\n",
       "      <td>HT</td>\n",
       "      <td>2017-09-06</td>\n",
       "      <td>2018-11-29</td>\n",
       "      <td>None</td>\n",
       "      <td>POLYGON ((-72.69573 19.81251, -72.69408 19.811...</td>\n",
       "    </tr>\n",
       "    <tr>\n",
       "      <th>1</th>\n",
       "      <td>3.601817</td>\n",
       "      <td>0.296991</td>\n",
       "      <td>Centre</td>\n",
       "      <td>Centre</td>\n",
       "      <td>Sant</td>\n",
       "      <td>HT06</td>\n",
       "      <td>None</td>\n",
       "      <td>None</td>\n",
       "      <td>None</td>\n",
       "      <td>None</td>\n",
       "      <td>...</td>\n",
       "      <td>None</td>\n",
       "      <td>None</td>\n",
       "      <td>Haiti</td>\n",
       "      <td>Haïti</td>\n",
       "      <td>Ayiti</td>\n",
       "      <td>HT</td>\n",
       "      <td>2017-09-06</td>\n",
       "      <td>2018-11-29</td>\n",
       "      <td>None</td>\n",
       "      <td>POLYGON ((-71.98404 19.33367, -71.98348 19.332...</td>\n",
       "    </tr>\n",
       "    <tr>\n",
       "      <th>2</th>\n",
       "      <td>2.796977</td>\n",
       "      <td>0.163747</td>\n",
       "      <td>Grande'Anse</td>\n",
       "      <td>Grande'Anse</td>\n",
       "      <td>Grandans</td>\n",
       "      <td>HT08</td>\n",
       "      <td>GrandeAnse</td>\n",
       "      <td>None</td>\n",
       "      <td>None</td>\n",
       "      <td>None</td>\n",
       "      <td>...</td>\n",
       "      <td>None</td>\n",
       "      <td>None</td>\n",
       "      <td>Haiti</td>\n",
       "      <td>Haïti</td>\n",
       "      <td>Ayiti</td>\n",
       "      <td>HT</td>\n",
       "      <td>2017-09-06</td>\n",
       "      <td>2018-11-29</td>\n",
       "      <td>None</td>\n",
       "      <td>MULTIPOLYGON (((-73.75492 18.64331, -73.75429 ...</td>\n",
       "    </tr>\n",
       "    <tr>\n",
       "      <th>3</th>\n",
       "      <td>3.294820</td>\n",
       "      <td>0.104843</td>\n",
       "      <td>Nippes</td>\n",
       "      <td>Nippes</td>\n",
       "      <td>Nip</td>\n",
       "      <td>HT10</td>\n",
       "      <td>None</td>\n",
       "      <td>None</td>\n",
       "      <td>None</td>\n",
       "      <td>None</td>\n",
       "      <td>...</td>\n",
       "      <td>None</td>\n",
       "      <td>None</td>\n",
       "      <td>Haiti</td>\n",
       "      <td>Haïti</td>\n",
       "      <td>Ayiti</td>\n",
       "      <td>HT</td>\n",
       "      <td>2017-09-06</td>\n",
       "      <td>2018-11-29</td>\n",
       "      <td>None</td>\n",
       "      <td>POLYGON ((-73.56737 18.58722, -73.56536 18.585...</td>\n",
       "    </tr>\n",
       "    <tr>\n",
       "      <th>4</th>\n",
       "      <td>3.834603</td>\n",
       "      <td>0.181067</td>\n",
       "      <td>North</td>\n",
       "      <td>Nord</td>\n",
       "      <td>Nò</td>\n",
       "      <td>HT03</td>\n",
       "      <td>None</td>\n",
       "      <td>None</td>\n",
       "      <td>None</td>\n",
       "      <td>None</td>\n",
       "      <td>...</td>\n",
       "      <td>None</td>\n",
       "      <td>None</td>\n",
       "      <td>Haiti</td>\n",
       "      <td>Haïti</td>\n",
       "      <td>Ayiti</td>\n",
       "      <td>HT</td>\n",
       "      <td>2017-09-06</td>\n",
       "      <td>2018-11-29</td>\n",
       "      <td>None</td>\n",
       "      <td>POLYGON ((-72.55529 19.87769, -72.55468 19.877...</td>\n",
       "    </tr>\n",
       "  </tbody>\n",
       "</table>\n",
       "<p>5 rows × 21 columns</p>\n",
       "</div>"
      ],
      "text/plain": [
       "   Shape_Leng  Shape_Area      ADM1_EN      ADM1_FR    ADM1_HT ADM1_PCODE  \\\n",
       "0    4.993649    0.417618   Artibonite   Artibonite  Latibonit       HT05   \n",
       "1    3.601817    0.296991       Centre       Centre       Sant       HT06   \n",
       "2    2.796977    0.163747  Grande'Anse  Grande'Anse   Grandans       HT08   \n",
       "3    3.294820    0.104843       Nippes       Nippes        Nip       HT10   \n",
       "4    3.834603    0.181067        North         Nord         Nò       HT03   \n",
       "\n",
       "     ADM1_REF ADM1ALT1EN ADM1ALT2EN ADM1ALT1FR  ... ADM1ALT1HT ADM1ALT2HT  \\\n",
       "0        None       None       None       None  ...       None       None   \n",
       "1        None       None       None       None  ...       None       None   \n",
       "2  GrandeAnse       None       None       None  ...       None       None   \n",
       "3        None       None       None       None  ...       None       None   \n",
       "4        None       None       None       None  ...       None       None   \n",
       "\n",
       "  ADM0_EN ADM0_FR ADM0_HT ADM0_PCODE        date     validOn validTo  \\\n",
       "0   Haiti   Haïti   Ayiti         HT  2017-09-06  2018-11-29    None   \n",
       "1   Haiti   Haïti   Ayiti         HT  2017-09-06  2018-11-29    None   \n",
       "2   Haiti   Haïti   Ayiti         HT  2017-09-06  2018-11-29    None   \n",
       "3   Haiti   Haïti   Ayiti         HT  2017-09-06  2018-11-29    None   \n",
       "4   Haiti   Haïti   Ayiti         HT  2017-09-06  2018-11-29    None   \n",
       "\n",
       "                                            geometry  \n",
       "0  POLYGON ((-72.69573 19.81251, -72.69408 19.811...  \n",
       "1  POLYGON ((-71.98404 19.33367, -71.98348 19.332...  \n",
       "2  MULTIPOLYGON (((-73.75492 18.64331, -73.75429 ...  \n",
       "3  POLYGON ((-73.56737 18.58722, -73.56536 18.585...  \n",
       "4  POLYGON ((-72.55529 19.87769, -72.55468 19.877...  \n",
       "\n",
       "[5 rows x 21 columns]"
      ]
     },
     "execution_count": 90,
     "metadata": {},
     "output_type": "execute_result"
    }
   ],
   "source": [
    "gdf = gpd.read_file(shape_files[1][0])\n",
    "gdf.head()"
   ]
  },
  {
   "cell_type": "code",
   "execution_count": 96,
   "metadata": {},
   "outputs": [],
   "source": [
    "# Country\n",
    "file_id = 0\n",
    "psql_engine = get_posgres_connection()\n",
    "load_shape_file_to_db(shape_files[file_id][0],shape_files[file_id][1],psql_engine)"
   ]
  },
  {
   "cell_type": "code",
   "execution_count": 103,
   "metadata": {},
   "outputs": [],
   "source": [
    "# Region\n",
    "file_id = 1\n",
    "psql_engine = get_posgres_connection()\n",
    "load_shape_file_to_db(shape_files[file_id][0],\n",
    "                      shape_files[file_id][1],\n",
    "                      psql_engine,\n",
    "                      geom_type=\"POLYGON\",\n",
    "                      if_exists ='append')\n",
    "\n",
    "\n",
    "\n"
   ]
  },
  {
   "cell_type": "code",
   "execution_count": 105,
   "metadata": {},
   "outputs": [],
   "source": [
    "# Department\n",
    "file_id = 2\n",
    "psql_engine = get_posgres_connection()\n",
    "load_shape_file_to_db(shape_files[file_id][0],shape_files[file_id][1],psql_engine,geom_type=\"POLYGON\",if_exists ='append')"
   ]
  },
  {
   "cell_type": "code",
   "execution_count": 93,
   "metadata": {},
   "outputs": [],
   "source": [
    "# Commune\n",
    "file_id = 3\n",
    "psql_engine = get_posgres_connection()\n",
    "load_shape_file_to_db(shape_files[file_id][0],shape_files[file_id][1],psql_engine,geom_type=\"POLYGON\")"
   ]
  }
 ],
 "metadata": {
  "kernelspec": {
   "display_name": "Python 3",
   "language": "python",
   "name": "python3"
  },
  "language_info": {
   "codemirror_mode": {
    "name": "ipython",
    "version": 3
   },
   "file_extension": ".py",
   "mimetype": "text/x-python",
   "name": "python",
   "nbconvert_exporter": "python",
   "pygments_lexer": "ipython3",
   "version": "3.8.5"
  }
 },
 "nbformat": 4,
 "nbformat_minor": 2
}
